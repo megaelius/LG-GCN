{
 "cells": [
  {
   "cell_type": "code",
   "execution_count": 17,
   "id": "1cbc0033",
   "metadata": {},
   "outputs": [],
   "source": [
    "import numpy as np\n",
    "import pandas as pd\n",
    "import h5py\n",
    "import torch\n",
    "from utils.pc_viz import show_pointclouds\n",
    "from architecture import CustomDenseDeepGCN\n",
    "\n",
    "import vtk\n",
    "from numpy import random\n",
    "from gcn_lib.dense.torch_edge import DenseKnnGraph\n",
    "\n",
    "class VtkPointCloud:\n",
    "\n",
    "    def __init__(self, zMin=-10.0, zMax=10.0, maxNumPoints=1e6):\n",
    "        self.maxNumPoints = maxNumPoints\n",
    "        self.vtkPolyData = vtk.vtkPolyData()\n",
    "\n",
    "        self.colors = vtk.vtkUnsignedCharArray()\n",
    "        self.colors.SetNumberOfComponents(3)\n",
    "        self.colors.SetName(\"Colors\")\n",
    "\n",
    "        self.clearPoints()\n",
    "        mapper = vtk.vtkPolyDataMapper()\n",
    "        mapper.SetInputData(self.vtkPolyData)\n",
    "        mapper.SetColorModeToDefault()\n",
    "        mapper.SetScalarRange(zMin, zMax)\n",
    "        mapper.SetScalarVisibility(1)\n",
    "        self.vtkActor = vtk.vtkActor()\n",
    "        self.vtkActor.SetMapper(mapper)\n",
    "\n",
    "    def addPoint(self, point, color):\n",
    "        if self.vtkPoints.GetNumberOfPoints() < self.maxNumPoints:\n",
    "            pointId = self.vtkPoints.InsertNextPoint(point[:])\n",
    "            self.colors.InsertNextTuple(color)\n",
    "            self.vtkDepth.InsertNextValue(point[2])\n",
    "            self.vtkCells.InsertNextCell(1)\n",
    "            self.vtkCells.InsertCellPoint(pointId)\n",
    "            self.vtkActor.GetProperty().SetPointSize(4)\n",
    "        else:\n",
    "            r = random.randint(0, self.maxNumPoints)\n",
    "            self.vtkPoints.SetPoint(r, point[:])\n",
    "        self.vtkPolyData.GetPointData().SetScalars(self.colors)\n",
    "        self.vtkCells.Modified()\n",
    "        self.vtkPoints.Modified()\n",
    "        self.vtkDepth.Modified()\n",
    "\n",
    "    def addLine(self, id1, id2):\n",
    "        self.vtkLines.InsertNextCell(2, [id1, id2])\n",
    "\n",
    "    def clearPoints(self):\n",
    "        self.vtkPoints = vtk.vtkPoints()\n",
    "        self.vtkCells = vtk.vtkCellArray()\n",
    "        self.vtkLines = vtk.vtkCellArray()\n",
    "        self.vtkDepth = vtk.vtkDoubleArray()\n",
    "        self.vtkDepth.SetName('DepthArray')\n",
    "        self.vtkPolyData.SetPoints(self.vtkPoints)\n",
    "        self.vtkPolyData.SetVerts(self.vtkCells)\n",
    "        self.vtkPolyData.SetLines(self.vtkLines)\n",
    "        self.vtkPolyData.GetPointData().SetScalars(self.vtkDepth)\n",
    "        self.vtkPolyData.GetPointData().SetActiveScalars('DepthArray')\n",
    "\n",
    "def dense_knn_to_set(knn_index):\n",
    "    edges = set()\n",
    "    for i in range(knn_index.shape[2]):\n",
    "        for j in range(knn_index.shape[3]):\n",
    "            l = list(knn_index[:,:,i,j])\n",
    "            tuple = (int(l[0]),int(l[1]))\n",
    "            edges.add(tuple)\n",
    "    return edges"
   ]
  },
  {
   "cell_type": "code",
   "execution_count": 2,
   "id": "7621b607",
   "metadata": {},
   "outputs": [
    {
     "name": "stdout",
     "output_type": "stream",
     "text": [
      "Keys: <KeysViewHDF5 ['data', 'label']>\n"
     ]
    }
   ],
   "source": [
    "with h5py.File(filename, \"r\") as f:\n",
    "    # List all groups\n",
    "    print(\"Keys: %s\" % f.keys())\n",
    "    a_group_key = list(f.keys())[0]\n",
    "\n",
    "    # Get the data\n",
    "    data = torch.Tensor(f[a_group_key])"
   ]
  },
  {
   "cell_type": "code",
   "execution_count": 124,
   "id": "aa308b76",
   "metadata": {},
   "outputs": [],
   "source": [
    "filename = \"data/ply_data_all_0.h5\"\n",
    "\n",
    "checkpointdense = torch.load('weights/mlpdense_best.pth',map_location='cpu')\n",
    "checkpoint3 = torch.load('weights/mlp3_best.pth',map_location='cpu')\n",
    "\n",
    "mlp_1layer = torch.nn.Linear(9,9)\n",
    "mlp_1layer.weight.data = checkpoint3['state_dict']['module.graph_mlp.0.weight']\n",
    "mlp_1layer.bias.data = checkpoint3['state_dict']['module.graph_mlp.0.bias']\n",
    "\n",
    "mlpdense = torch.nn.Sequential(torch.nn.Linear(9,32),\n",
    "                          torch.nn.ReLU(),\n",
    "                          torch.nn.Linear(32,9))\n",
    "mlpdense[0].weight.data = checkpointdense['state_dict']['module.graph_mlp.0.weight']\n",
    "mlpdense[0].bias.data = checkpointdense['state_dict']['module.graph_mlp.0.bias']\n",
    "mlpdense[2].weight.data = checkpointdense['state_dict']['module.graph_mlp.2.weight']\n",
    "mlpdense[2].bias.data = checkpointdense['state_dict']['module.graph_mlp.2.bias']\n",
    "\n",
    "knn = DenseKnnGraph(16)\n",
    "\n",
    "pointCloud = VtkPointCloud()\n",
    "\n",
    "#Add points\n",
    "for j in range(data.shape[1]):\n",
    "    pointCloud.addPoint(list(data[1,j,0:3]),list(255*data[1,j,3:6]))\n",
    "#Add graph lines\n",
    "#(batch_size, num_dims, num_points, 1)\n",
    "knn_index = knn(data[1,:,:3].unsqueeze(0).unsqueeze(-1).transpose(2,1))\n",
    "knn_index_mlpdense = knn(mlpdense(data[1,:,:]).unsqueeze(0).unsqueeze(-1).transpose(2,1))\n",
    "knn_index_mlp_1layer = knn(mlp3(data[1,:,:]).unsqueeze(0).unsqueeze(-1).transpose(2,1))\n",
    "edges = dense_knn_to_set(knn_index)\n",
    "edges_mlpdense = dense_knn_to_set(knn_index_mlpdense)\n",
    "edges_mlp_1layer = dense_knn_to_set(knn_index_mlp_1layer)\n",
    "diff_knn_dense = edges.difference(edges_mlpdense)\n",
    "diff_dense_knn = edges_mlpdense.difference(edges)\n",
    "diff_1layer_dense = edges_mlp_1layer.difference(edges_mlp_1layer)\n",
    "\n",
    "for edge in edges:\n",
    "    pointCloud.addLine(edge[0],edge[1])\n",
    "\n",
    "# Renderer\n",
    "renderer = vtk.vtkRenderer()\n",
    "renderer.AddActor(pointCloud.vtkActor)\n",
    "renderer.SetBackground(.2, .3, .4)\n",
    "renderer.ResetCamera()\n",
    "\n",
    "# Render Window\n",
    "renderWindow = vtk.vtkRenderWindow()\n",
    "renderWindow.AddRenderer(renderer)\n",
    "\n",
    "# Interactor\n",
    "renderWindowInteractor = vtk.vtkRenderWindowInteractor()\n",
    "renderWindowInteractor.SetRenderWindow(renderWindow)\n",
    "\n",
    "# Begin Interaction\n",
    "renderWindow.Render()\n",
    "renderWindowInteractor.Start()"
   ]
  },
  {
   "cell_type": "code",
   "execution_count": 169,
   "id": "258e0a4b",
   "metadata": {},
   "outputs": [],
   "source": [
    "def length(A,B):\n",
    "    return float(np.sqrt(sum((A-B)**2)))\n",
    "\n",
    "def sin_angle(A,B):\n",
    "    #sin of angle between line and XY plane\n",
    "    return float(abs(torch.dot(A-B,torch.Tensor([0,0,1])))/(np.sqrt(torch.dot(A-B,A-B))*np.sqrt(torch.dot(torch.Tensor([0,0,1]),torch.Tensor([0,0,1])))))\n",
    "\n",
    "def linestats(edges,data):\n",
    "    df = {'A':[], 'B': [],'xA':[], 'xB':[],'yA':[], 'yB':[],'zA':[], 'zB':[],'rA':[], 'rB':[],'gA':[], 'gB':[],'bA':[], 'bB':[], 'sin_angle':[], 'dist':[],'dist2':[], 'color_diff':[]}\n",
    "    for edge in edges:\n",
    "        df['A'].append(edge[0])\n",
    "        df['B'].append(edge[1])\n",
    "        df['xA'].append(float(data[1,edge[0],0]))\n",
    "        df['xB'].append(float(data[1,edge[1],0]))\n",
    "        df['yA'].append(float(data[1,edge[0],1]))\n",
    "        df['yB'].append(float(data[1,edge[1],1]))\n",
    "        df['zA'].append(float(data[1,edge[0],2]))\n",
    "        df['zB'].append(float(data[1,edge[1],2]))\n",
    "        df['rA'].append(float(data[1,edge[0],3]))\n",
    "        df['rB'].append(float(data[1,edge[1],3]))\n",
    "        df['gA'].append(float(data[1,edge[0],4]))\n",
    "        df['gB'].append(float(data[1,edge[1],4]))\n",
    "        df['bA'].append(float(data[1,edge[0],5]))\n",
    "        df['bB'].append(float(data[1,edge[1],5]))\n",
    "        df['dist'].append(length(data[1,edge[0],:3],data[1,edge[1],:3]))\n",
    "        df['dist2'].append(length(data[1,edge[0],6:9],data[1,edge[1],6:9]))\n",
    "        df['sin_angle'].append(sin_angle(data[1,edge[0],:3],data[1,edge[1],:3]))\n",
    "        df['color_diff'].append(length(data[1,edge[0],3:6],data[1,edge[1],3:6]))\n",
    "    return pd.DataFrame.from_dict(df, orient='columns')"
   ]
  },
  {
   "cell_type": "code",
   "execution_count": 170,
   "id": "6a6a79bf",
   "metadata": {},
   "outputs": [],
   "source": [
    "linestats_knn = linestats(edges,data)\n",
    "linestats_dense = linestats(edges_mlpdense,data)\n",
    "linestats_1layer = linestats(edges_mlp_1layer,data)"
   ]
  },
  {
   "cell_type": "code",
   "execution_count": 171,
   "id": "96b93d28",
   "metadata": {},
   "outputs": [
    {
     "data": {
      "image/png": "[encoded data removed]",
      "text/plain": [
       "<Figure size 432x288 with 1 Axes>"
      ]
     },
     "metadata": {
      "needs_background": "light"
     },
     "output_type": "display_data"
    },
    {
     "name": "stdout",
     "output_type": "stream",
     "text": [
      "Mean distance baseline: 0.04973599142430629\n",
      "Mean distance linear transform: 0.05277491684033109\n",
      "Mean distance mlp dense connection: 0.06030843124227303\n"
     ]
    }
   ],
   "source": [
    "import matplotlib.pyplot as plt\n",
    "bins = np.arange(0,0.5,0.005)\n",
    "plt.hist(linestats_knn['dist'],bins = bins,label='baseline',alpha = 0.5)\n",
    "plt.hist(linestats_dense['dist'],bins = bins,label = 'mlp dense connection',alpha = 0.5)\n",
    "plt.hist(linestats_1layer['dist'],bins = bins,label = 'linear transform',alpha = 0.5)\n",
    "plt.title('Histogram of distance between connected points')\n",
    "plt.legend(loc='upper right')\n",
    "plt.show()\n",
    "print('Mean distance baseline:',np.mean(linestats_knn['dist']))\n",
    "print('Mean distance linear transform:',np.mean(linestats_1layer['dist']))\n",
    "print('Mean distance mlp dense connection:',np.mean(linestats_dense['dist']))"
   ]
  },
  {
   "cell_type": "code",
   "execution_count": 172,
   "id": "5ab37e13",
   "metadata": {},
   "outputs": [
    {
     "data": {
      "image/png": "[encoded data removed]",
      "text/plain": [
       "<Figure size 432x288 with 1 Axes>"
      ]
     },
     "metadata": {
      "needs_background": "light"
     },
     "output_type": "display_data"
    },
    {
     "name": "stdout",
     "output_type": "stream",
     "text": [
      "Mean color diff baseline: 0.05997744332095323\n",
      "Mean color diff linear transform: 0.03760809095497564\n",
      "Mean color diff mlp dense connection: 0.045970333221845294\n"
     ]
    }
   ],
   "source": [
    "bins = np.arange(0,0.2,0.005)\n",
    "plt.hist(linestats_knn['color_diff'],bins = bins,label='baseline',alpha = 0.5)\n",
    "plt.hist(linestats_dense['color_diff'],bins = bins,label = 'mlp dense connection',alpha = 0.5)\n",
    "plt.hist(linestats_1layer['color_diff'],bins = bins,label = 'linear transform',alpha = 0.5)\n",
    "plt.title('Histogram of color diff between connected points')\n",
    "plt.legend(loc='upper right')\n",
    "plt.show()\n",
    "print('Mean color diff baseline:',np.mean(linestats_knn['color_diff']))\n",
    "print('Mean color diff linear transform:',np.mean(linestats_1layer['color_diff']))\n",
    "print('Mean color diff mlp dense connection:',np.mean(linestats_dense['color_diff']))"
   ]
  },
  {
   "cell_type": "code",
   "execution_count": 174,
   "id": "fa7c2dfe",
   "metadata": {},
   "outputs": [
    {
     "data": {
      "image/png": "[encoded data removed]",
      "text/plain": [
       "<Figure size 432x288 with 1 Axes>"
      ]
     },
     "metadata": {
      "needs_background": "light"
     },
     "output_type": "display_data"
    },
    {
     "name": "stdout",
     "output_type": "stream",
     "text": [
      "Mean sin_angle baseline: 0.365943415892469\n",
      "Mean sin_angle linear transform: 0.35456264132900567\n",
      "Mean sin_angle mlp dense connection: 0.44843574843409767\n"
     ]
    }
   ],
   "source": [
    "bins = np.arange(0,1,0.025)\n",
    "plt.hist(linestats_knn['sin_angle'],bins = bins,label='baseline',alpha = 1)\n",
    "plt.hist(linestats_dense['sin_angle'],bins = bins,label = 'mlp dense connection',alpha = 0.5)\n",
    "plt.hist(linestats_1layer['sin_angle'],bins = bins,label = 'linear transform',alpha = 0.5)\n",
    "plt.title('Histogram of sin_angle between connected points')\n",
    "plt.legend(loc='upper left')\n",
    "plt.show()\n",
    "print('Mean sin_angle baseline:',np.mean(linestats_knn['sin_angle']))\n",
    "print('Mean sin_angle linear transform:',np.mean(linestats_1layer['sin_angle']))\n",
    "print('Mean sin_angle mlp dense connection:',np.mean(linestats_dense['sin_angle']))"
   ]
  },
  {
   "cell_type": "code",
   "execution_count": 175,
   "id": "2bc0f8e2",
   "metadata": {},
   "outputs": [
    {
     "data": {
      "image/png": "[encoded data removed]",
      "text/plain": [
       "<Figure size 432x288 with 1 Axes>"
      ]
     },
     "metadata": {
      "needs_background": "light"
     },
     "output_type": "display_data"
    },
    {
     "name": "stdout",
     "output_type": "stream",
     "text": [
      "Mean distance baseline: 0.011986056734185624\n",
      "Mean distance linear transform: 0.012518345059476577\n",
      "Mean distance mlp dense connection: 0.015206640804877214\n"
     ]
    }
   ],
   "source": [
    "bins = np.arange(0,0.1,0.001)\n",
    "plt.hist(linestats_knn['dist2'],bins = bins,label='baseline',alpha = 0.5)\n",
    "plt.hist(linestats_dense['dist2'],bins = bins,label = 'mlp dense connection',alpha = 0.5)\n",
    "plt.hist(linestats_1layer['dist2'],bins = bins,label = 'linear transform',alpha = 0.5)\n",
    "plt.title('Histogram of distance between connected points')\n",
    "plt.legend(loc='upper right')\n",
    "plt.show()\n",
    "print('Mean distance baseline:',np.mean(linestats_knn['dist2']))\n",
    "print('Mean distance linear transform:',np.mean(linestats_1layer['dist2']))\n",
    "print('Mean distance mlp dense connection:',np.mean(linestats_dense['dist2']))"
   ]
  }
 ],
 "metadata": {
  "kernelspec": {
   "display_name": "Python 3 (ipykernel)",
   "language": "python",
   "name": "python3"
  },
  "language_info": {
   "codemirror_mode": {
    "name": "ipython",
    "version": 3
   },
   "file_extension": ".py",
   "mimetype": "text/x-python",
   "name": "python",
   "nbconvert_exporter": "python",
   "pygments_lexer": "ipython3",
   "version": "3.8.10"
  }
 },
 "nbformat": 4,
 "nbformat_minor": 5
}
