{
 "cells": [
  {
   "cell_type": "code",
   "execution_count": 2,
   "id": "1cbc0033",
   "metadata": {},
   "outputs": [
    {
     "name": "stdout",
     "output_type": "stream",
     "text": [
      "Using vtk version 9.1.0\n"
     ]
    }
   ],
   "source": [
    "import numpy as np\n",
    "import pandas as pd\n",
    "import h5py\n",
    "import torch\n",
    "from utils.pc_viz import show_pointclouds\n",
    "from architecture import CustomDenseDeepGCN\n",
    "\n",
    "import vtk\n",
    "from numpy import random\n",
    "from gcn_lib.dense.torch_edge import DenseKnnGraph\n",
    "\n",
    "import matplotlib.pyplot as plt\n",
    "\n",
    "from modelnet40 import ModelNet40\n",
    "from architecture import ClassificationGraphNN\n",
    "from types import SimpleNamespace\n",
    "import networkx as nx\n",
    "from tqdm import tqdm\n",
    "\n",
    "from tqdm import tqdm\n",
    "from gcn_lib.dense import pairwise_distance\n",
    "\n",
    "class VtkPointCloud:\n",
    "\n",
    "    def __init__(self, zMin=-10.0, zMax=10.0, maxNumPoints=1e6):\n",
    "        self.maxNumPoints = maxNumPoints\n",
    "        self.vtkPolyData = vtk.vtkPolyData()\n",
    "\n",
    "        self.colors = vtk.vtkUnsignedCharArray()\n",
    "        self.colors.SetNumberOfComponents(3)\n",
    "        self.colors.SetName(\"Colors\")\n",
    "\n",
    "        self.clearPoints()\n",
    "        mapper = vtk.vtkPolyDataMapper()\n",
    "        mapper.SetInputData(self.vtkPolyData)\n",
    "        mapper.SetColorModeToDefault()\n",
    "        mapper.SetScalarRange(zMin, zMax)\n",
    "        mapper.SetScalarVisibility(1)\n",
    "        self.vtkActor = vtk.vtkActor()\n",
    "        self.vtkActor.SetMapper(mapper)\n",
    "\n",
    "    def addPoint(self, point, color, important = False):\n",
    "        if self.vtkPoints.GetNumberOfPoints() < self.maxNumPoints:\n",
    "            pointId = self.vtkPoints.InsertNextPoint(point[:])\n",
    "            self.colors.InsertNextTuple(color)\n",
    "            self.vtkDepth.InsertNextValue(point[2])\n",
    "            self.vtkCells.InsertNextCell(1)\n",
    "            self.vtkCells.InsertCellPoint(pointId)\n",
    "            if important:\n",
    "                self.vtkActor.GetProperty().SetPointSize(4)\n",
    "            else:\n",
    "                self.vtkActor.GetProperty().SetPointSize(8)\n",
    "        else:\n",
    "            r = random.randint(0, self.maxNumPoints)\n",
    "            self.vtkPoints.SetPoint(r, point[:])\n",
    "        self.vtkPolyData.GetPointData().SetScalars(self.colors)\n",
    "        self.vtkCells.Modified()\n",
    "        self.vtkPoints.Modified()\n",
    "        self.vtkDepth.Modified()\n",
    "\n",
    "    def addLine(self, id1, id2):\n",
    "        self.vtkLines.InsertNextCell(2, [id1, id2])\n",
    "\n",
    "    def clearPoints(self):\n",
    "        self.vtkPoints = vtk.vtkPoints()\n",
    "        self.vtkCells = vtk.vtkCellArray()\n",
    "        self.vtkLines = vtk.vtkCellArray()\n",
    "        self.vtkDepth = vtk.vtkDoubleArray()\n",
    "        self.vtkDepth.SetName('DepthArray')\n",
    "        self.vtkPolyData.SetPoints(self.vtkPoints)\n",
    "        self.vtkPolyData.SetVerts(self.vtkCells)\n",
    "        self.vtkPolyData.SetLines(self.vtkLines)\n",
    "        self.vtkPolyData.GetPointData().SetScalars(self.vtkDepth)\n",
    "        self.vtkPolyData.GetPointData().SetActiveScalars('DepthArray')\n",
    "\n",
    "def dense_knn_to_set(knn_index):\n",
    "    edges = set()\n",
    "    for i in range(knn_index.shape[2]):\n",
    "        for j in range(knn_index.shape[3]):\n",
    "            l = list(knn_index[:,:,i,j])\n",
    "            tuple = (int(l[0]),int(l[1]))\n",
    "            edges.add(tuple)\n",
    "    return edges\n",
    "\n",
    "def scaled_stress(feats1,feats2):\n",
    "    f1 = feats1.transpose(2, 1).squeeze(-1)\n",
    "    f2 = feats2.transpose(2, 1).squeeze(-1)\n",
    "    d1squared = pairwise_distance(f1)\n",
    "    d2squared = pairwise_distance(f2) \n",
    "    #d1 = torch.sqrt(d1squared/f1.shape[2] + 1)\n",
    "    #d2 = torch.sqrt(d2squared/f2.shape[2] + 1)\n",
    "    d1 = torch.sqrt(d1squared)\n",
    "    d2 = torch.sqrt(d2squared)\n",
    "    #remove nans\n",
    "    d1[d1!=d1]=0\n",
    "    d2[d2!=d2]=0\n",
    "    #print(d1[0,0,0])\n",
    "    crit = torch.nn.MSELoss(reduction='none')\n",
    "    #print(d1.shape, ((d1squared.view(f1.shape[0],-1)).sum(1, keepdim=True).unsqueeze(-1)).shape)\n",
    "    #Shapes are B,N,N and B,1,1\n",
    "    scaled_se = 2*crit(d1,d2)/((d1squared.view(f1.shape[0],-1)).sum(1, keepdim=True).unsqueeze(-1))\n",
    "    #print(scaled_se.shape)\n",
    "    flat_scaled_se = scaled_se.view(f1.shape[0],-1)\n",
    "    #print(flat_scaled_se.shape)\n",
    "    return torch.sqrt(flat_scaled_se.sum(dim=1).sum(dim=0)/2)"
   ]
  },
  {
   "cell_type": "markdown",
   "id": "ca97c435",
   "metadata": {},
   "source": [
    "# S3DIS"
   ]
  },
  {
   "cell_type": "code",
   "execution_count": 3,
   "id": "7621b607",
   "metadata": {},
   "outputs": [
    {
     "name": "stdout",
     "output_type": "stream",
     "text": [
      "Keys: <KeysViewHDF5 ['data', 'label']>\n"
     ]
    }
   ],
   "source": [
    "filename = \"data/ply_data_all_0.h5\"\n",
    "with h5py.File(filename, \"r\") as f:\n",
    "    # List all groups\n",
    "    print(\"Keys: %s\" % f.keys())\n",
    "    a_group_key = list(f.keys())[0]\n",
    "\n",
    "    # Get the data\n",
    "    data = torch.Tensor(f[a_group_key])"
   ]
  },
  {
   "cell_type": "code",
   "execution_count": null,
   "id": "aa308b76",
   "metadata": {},
   "outputs": [],
   "source": [
    "checkpointdense = torch.load('weights/mlpdense_best.pth',map_location='cpu')\n",
    "checkpoint3 = torch.load('weights/mlp3_best.pth',map_location='cpu')\n",
    "\n",
    "mlp_1layer = torch.nn.Linear(9,9)\n",
    "mlp_1layer.weight.data = checkpoint3['state_dict']['module.graph_mlp.0.weight']\n",
    "mlp_1layer.bias.data = checkpoint3['state_dict']['module.graph_mlp.0.bias']\n",
    "\n",
    "mlpdense = torch.nn.Sequential(torch.nn.Linear(9,32),\n",
    "                          torch.nn.ReLU(),\n",
    "                          torch.nn.Linear(32,9))\n",
    "mlpdense[0].weight.data = checkpointdense['state_dict']['module.graph_mlp.0.weight']\n",
    "mlpdense[0].bias.data = checkpointdense['state_dict']['module.graph_mlp.0.bias']\n",
    "mlpdense[2].weight.data = checkpointdense['state_dict']['module.graph_mlp.2.weight']\n",
    "mlpdense[2].bias.data = checkpointdense['state_dict']['module.graph_mlp.2.bias']\n",
    "\n",
    "knn = DenseKnnGraph(16)\n",
    "\n",
    "pointCloud = VtkPointCloud()\n",
    "\n",
    "#Add points\n",
    "for j in range(data.shape[1]):\n",
    "    pointCloud.addPoint(list(data[1,j,0:3]),list(255*data[1,j,3:6]))\n",
    "#Add graph lines\n",
    "#(batch_size, num_dims, num_points, 1)\n",
    "knn_index = knn(data[1,:,:3].unsqueeze(0).unsqueeze(-1).transpose(2,1))\n",
    "knn_index_mlpdense = knn(mlpdense(data[1,:,:]).unsqueeze(0).unsqueeze(-1).transpose(2,1))\n",
    "knn_index_mlp_1layer = knn(mlp_1layer(data[1,:,:]).unsqueeze(0).unsqueeze(-1).transpose(2,1))\n",
    "edges = dense_knn_to_set(knn_index)\n",
    "edges_mlpdense = dense_knn_to_set(knn_index_mlpdense)\n",
    "edges_mlp_1layer = dense_knn_to_set(knn_index_mlp_1layer)\n",
    "diff_knn_dense = edges.difference(edges_mlpdense)\n",
    "diff_dense_knn = edges_mlpdense.difference(edges)\n",
    "diff_1layer_dense = edges_mlp_1layer.difference(edges_mlp_1layer)\n",
    "diff_1layer_knn = edges.difference(edges_mlp_1layer)\n",
    "\n",
    "for edge in diff_1layer_knn:\n",
    "    pointCloud.addLine(edge[0],edge[1])\n",
    "\n",
    "# Renderer\n",
    "renderer = vtk.vtkRenderer()\n",
    "renderer.AddActor(pointCloud.vtkActor)\n",
    "renderer.SetBackground(.2, .3, .4)\n",
    "renderer.ResetCamera()\n",
    "\n",
    "# Render Window\n",
    "renderWindow = vtk.vtkRenderWindow()\n",
    "renderWindow.AddRenderer(renderer)\n",
    "\n",
    "# Interactor\n",
    "renderWindowInteractor = vtk.vtkRenderWindowInteractor()\n",
    "renderWindowInteractor.SetRenderWindow(renderWindow)\n",
    "\n",
    "# Begin Interaction\n",
    "renderWindow.Render()\n",
    "renderWindowInteractor.Start()"
   ]
  },
  {
   "cell_type": "code",
   "execution_count": 8,
   "id": "258e0a4b",
   "metadata": {},
   "outputs": [],
   "source": [
    "def length(A,B):\n",
    "    return float(np.sqrt(sum((A-B)**2)))\n",
    "\n",
    "def sin_angle(A,B):\n",
    "    #sin of angle between line and XY plane\n",
    "    return float(abs(torch.dot(A-B,torch.Tensor([0,0,1])))/(np.sqrt(torch.dot(A-B,A-B))*np.sqrt(torch.dot(torch.Tensor([0,0,1]),torch.Tensor([0,0,1])))))\n",
    "\n",
    "def linestats(edges,data):\n",
    "    df = {'A':[], 'B': [],'xA':[], 'xB':[],'yA':[], 'yB':[],'zA':[], 'zB':[],'rA':[], 'rB':[],'gA':[], 'gB':[],'bA':[], 'bB':[], 'sin_angle':[], 'dist':[],'dist2':[], 'color_diff':[]}\n",
    "    for edge in edges:\n",
    "        df['A'].append(edge[0])\n",
    "        df['B'].append(edge[1])\n",
    "        df['xA'].append(float(data[1,edge[0],0]))\n",
    "        df['xB'].append(float(data[1,edge[1],0]))\n",
    "        df['yA'].append(float(data[1,edge[0],1]))\n",
    "        df['yB'].append(float(data[1,edge[1],1]))\n",
    "        df['zA'].append(float(data[1,edge[0],2]))\n",
    "        df['zB'].append(float(data[1,edge[1],2]))\n",
    "        df['rA'].append(float(data[1,edge[0],3]))\n",
    "        df['rB'].append(float(data[1,edge[1],3]))\n",
    "        df['gA'].append(float(data[1,edge[0],4]))\n",
    "        df['gB'].append(float(data[1,edge[1],4]))\n",
    "        df['bA'].append(float(data[1,edge[0],5]))\n",
    "        df['bB'].append(float(data[1,edge[1],5]))\n",
    "        df['dist'].append(length(data[1,edge[0],:3],data[1,edge[1],:3]))\n",
    "        df['dist2'].append(length(data[1,edge[0],6:9],data[1,edge[1],6:9]))\n",
    "        df['sin_angle'].append(sin_angle(data[1,edge[0],:3],data[1,edge[1],:3]))\n",
    "        df['color_diff'].append(length(data[1,edge[0],3:6],data[1,edge[1],3:6]))\n",
    "    return pd.DataFrame.from_dict(df, orient='columns')"
   ]
  },
  {
   "cell_type": "code",
   "execution_count": 9,
   "id": "6a6a79bf",
   "metadata": {},
   "outputs": [],
   "source": [
    "linestats_knn = linestats(edges,data)\n",
    "linestats_dense = linestats(edges_mlpdense,data)\n",
    "linestats_1layer = linestats(edges_mlp_1layer,data)"
   ]
  },
  {
   "cell_type": "code",
   "execution_count": 171,
   "id": "96b93d28",
   "metadata": {},
   "outputs": [
    {
     "data": {
      "image/png": "[encoded data removed]",
      "text/plain": [
       "<Figure size 432x288 with 1 Axes>"
      ]
     },
     "metadata": {
      "needs_background": "light"
     },
     "output_type": "display_data"
    },
    {
     "name": "stdout",
     "output_type": "stream",
     "text": [
      "Mean distance baseline: 0.04973599142430629\n",
      "Mean distance linear transform: 0.05277491684033109\n",
      "Mean distance mlp dense connection: 0.06030843124227303\n"
     ]
    }
   ],
   "source": [
    "import matplotlib.pyplot as plt\n",
    "bins = np.arange(0,0.5,0.005)\n",
    "plt.hist(linestats_knn['dist'],bins = bins,label='baseline',alpha = 0.5)\n",
    "plt.hist(linestats_dense['dist'],bins = bins,label = 'mlp dense connection',alpha = 0.5)\n",
    "plt.hist(linestats_1layer['dist'],bins = bins,label = 'linear transform',alpha = 0.5)\n",
    "plt.title('Histogram of distance between connected points')\n",
    "plt.legend(loc='upper right')\n",
    "plt.show()\n",
    "print('Mean distance baseline:',np.mean(linestats_knn['dist']))\n",
    "print('Mean distance linear transform:',np.mean(linestats_1layer['dist']))\n",
    "print('Mean distance mlp dense connection:',np.mean(linestats_dense['dist']))"
   ]
  },
  {
   "cell_type": "code",
   "execution_count": 172,
   "id": "5ab37e13",
   "metadata": {},
   "outputs": [
    {
     "data": {
      "image/png": "[encoded data removed]",
      "text/plain": [
       "<Figure size 432x288 with 1 Axes>"
      ]
     },
     "metadata": {
      "needs_background": "light"
     },
     "output_type": "display_data"
    },
    {
     "name": "stdout",
     "output_type": "stream",
     "text": [
      "Mean color diff baseline: 0.05997744332095323\n",
      "Mean color diff linear transform: 0.03760809095497564\n",
      "Mean color diff mlp dense connection: 0.045970333221845294\n"
     ]
    }
   ],
   "source": [
    "bins = np.arange(0,0.2,0.005)\n",
    "plt.hist(linestats_knn['color_diff'],bins = bins,label='baseline',alpha = 0.5)\n",
    "plt.hist(linestats_dense['color_diff'],bins = bins,label = 'mlp dense connection',alpha = 0.5)\n",
    "plt.hist(linestats_1layer['color_diff'],bins = bins,label = 'linear transform',alpha = 0.5)\n",
    "plt.title('Histogram of color diff between connected points')\n",
    "plt.legend(loc='upper right')\n",
    "plt.show()\n",
    "print('Mean color diff baseline:',np.mean(linestats_knn['color_diff']))\n",
    "print('Mean color diff linear transform:',np.mean(linestats_1layer['color_diff']))\n",
    "print('Mean color diff mlp dense connection:',np.mean(linestats_dense['color_diff']))"
   ]
  },
  {
   "cell_type": "code",
   "execution_count": 174,
   "id": "fa7c2dfe",
   "metadata": {},
   "outputs": [
    {
     "data": {
      "image/png": "[encoded data removed]",
      "text/plain": [
       "<Figure size 432x288 with 1 Axes>"
      ]
     },
     "metadata": {
      "needs_background": "light"
     },
     "output_type": "display_data"
    },
    {
     "name": "stdout",
     "output_type": "stream",
     "text": [
      "Mean sin_angle baseline: 0.365943415892469\n",
      "Mean sin_angle linear transform: 0.35456264132900567\n",
      "Mean sin_angle mlp dense connection: 0.44843574843409767\n"
     ]
    }
   ],
   "source": [
    "bins = np.arange(0,1,0.025)\n",
    "plt.hist(linestats_knn['sin_angle'],bins = bins,label='baseline',alpha = 1)\n",
    "plt.hist(linestats_dense['sin_angle'],bins = bins,label = 'mlp dense connection',alpha = 0.5)\n",
    "plt.hist(linestats_1layer['sin_angle'],bins = bins,label = 'linear transform',alpha = 0.5)\n",
    "plt.title('Histogram of sin_angle between connected points')\n",
    "plt.legend(loc='upper left')\n",
    "plt.show()\n",
    "print('Mean sin_angle baseline:',np.mean(linestats_knn['sin_angle']))\n",
    "print('Mean sin_angle linear transform:',np.mean(linestats_1layer['sin_angle']))\n",
    "print('Mean sin_angle mlp dense connection:',np.mean(linestats_dense['sin_angle']))"
   ]
  },
  {
   "cell_type": "code",
   "execution_count": 175,
   "id": "2bc0f8e2",
   "metadata": {},
   "outputs": [
    {
     "data": {
      "image/png": "[encoded data removed]",
      "text/plain": [
       "<Figure size 432x288 with 1 Axes>"
      ]
     },
     "metadata": {
      "needs_background": "light"
     },
     "output_type": "display_data"
    },
    {
     "name": "stdout",
     "output_type": "stream",
     "text": [
      "Mean distance baseline: 0.011986056734185624\n",
      "Mean distance linear transform: 0.012518345059476577\n",
      "Mean distance mlp dense connection: 0.015206640804877214\n"
     ]
    }
   ],
   "source": [
    "bins = np.arange(0,0.1,0.001)\n",
    "plt.hist(linestats_knn['dist2'],bins = bins,label='baseline',alpha = 0.5)\n",
    "plt.hist(linestats_dense['dist2'],bins = bins,label = 'mlp dense connection',alpha = 0.5)\n",
    "plt.hist(linestats_1layer['dist2'],bins = bins,label = 'linear transform',alpha = 0.5)\n",
    "plt.title('Histogram of distance between connected points')\n",
    "plt.legend(loc='upper right')\n",
    "plt.show()\n",
    "print('Mean distance baseline:',np.mean(linestats_knn['dist2']))\n",
    "print('Mean distance linear transform:',np.mean(linestats_1layer['dist2']))\n",
    "print('Mean distance mlp dense connection:',np.mean(linestats_dense['dist2']))"
   ]
  },
  {
   "cell_type": "markdown",
   "id": "59a3a4e5",
   "metadata": {},
   "source": [
    "# ModelNet40"
   ]
  },
  {
   "cell_type": "code",
   "execution_count": 2,
   "id": "c6041285",
   "metadata": {},
   "outputs": [
    {
     "name": "stdout",
     "output_type": "stream",
     "text": [
      "dict_keys(['epoch', 'state_dict', 'optimizer_state_dict', 'scheduler_state_dict', 'best_value'])\n",
      "29\n",
      "(1024, 3)\n",
      "torch.Size([1, 2, 1024, 1])\n"
     ]
    }
   ],
   "source": [
    "opt = SimpleNamespace(n_filters = 64, \n",
    "                      k= 16,\n",
    "                      act='relu',\n",
    "                      norm = 'batch',\n",
    "                      bias = True,\n",
    "                      dropout = 0.3,\n",
    "                      n_blocks = 4,\n",
    "                      graph = 'KNN',\n",
    "                      knn_criterion = 'MLP',\n",
    "                      graph_feats = 2,\n",
    "                      in_channels = 3,\n",
    "                      graph_dropout = 0,\n",
    "                      n_classes = 40)\n",
    "\n",
    "model = ClassificationGraphNN(opt)\n",
    "state_dict = torch.load('weights/MLP_3_16_2_best.pth', map_location='cpu')\n",
    "print(state_dict.keys())\n",
    "model.load_state_dict(state_dict['state_dict'])\n",
    "model.eval()\n",
    "\n",
    "\n",
    "#Load data\n",
    "dataset = ModelNet40(1024,'test')\n",
    "#i=29 car = 7, Figure from Paper: guitar(29)\n",
    "i=22\n",
    "while dataset[i][1]!=17:\n",
    "    i+=1\n",
    "print(i)\n",
    "pc, target = dataset[i]\n",
    "print(pc.shape)\n",
    "\n",
    "#Forward pass:\n",
    "\n",
    "pred, edge_features = model(torch.Tensor(pc).unsqueeze(0).unsqueeze(-1).transpose(2,1))\n",
    "\n",
    "print(edge_features.shape)"
   ]
  },
  {
   "cell_type": "code",
   "execution_count": 19,
   "id": "a2ef6d18",
   "metadata": {},
   "outputs": [],
   "source": [
    "knn = DenseKnnGraph(16)\n",
    "\n",
    "pointCloud = VtkPointCloud()\n",
    "\n",
    "points = torch.Tensor(pc)\n",
    "graph_feats = edge_features.squeeze(0).squeeze(-1).transpose(0,1)\n",
    "\n",
    "#Add graph lines\n",
    "#(batch_size, num_dims, num_points, 1)\n",
    "knn_index = knn(edge_features)\n",
    "#knn_index = knn(points.unsqueeze(0).unsqueeze(-1).transpose(2,1))\n",
    "edges = dense_knn_to_set(knn_index)\n",
    "\n",
    "important_point = 85\n",
    "\n",
    "important_neighbors = []\n",
    "for edge in edges:\n",
    "    if edge[1] == important_point:\n",
    "        important_neighbors.append(edge[0])\n",
    "\n",
    "#Add points\n",
    "for j in range(points.shape[0]):\n",
    "    if j == important_point:\n",
    "        color = [255,0,0]\n",
    "    elif j in important_neighbors:\n",
    "        color = [0,0,255]\n",
    "    else:\n",
    "        color = [0,0,0]\n",
    "    pointCloud.addPoint(list(graph_feats[j])+[0,0],color)\n",
    "\n",
    "for edge in edges:\n",
    "    if edge[1] == important_point:\n",
    "        pointCloud.addLine(edge[0],edge[1])\n",
    "\n",
    "# Renderer\n",
    "renderer = vtk.vtkRenderer()\n",
    "renderer.AddActor(pointCloud.vtkActor)\n",
    "renderer.SetBackground(255,255,255)\n",
    "renderer.ResetCamera()\n",
    "\n",
    "# Render Window\n",
    "renderWindow = vtk.vtkRenderWindow()\n",
    "renderWindow.AddRenderer(renderer)\n",
    "\n",
    "# Interactor\n",
    "renderWindowInteractor = vtk.vtkRenderWindowInteractor()\n",
    "renderWindowInteractor.SetRenderWindow(renderWindow)\n",
    "\n",
    "# Begin Interaction\n",
    "renderWindow.Render()\n",
    "renderWindowInteractor.Start()"
   ]
  },
  {
   "cell_type": "markdown",
   "id": "2e319b20",
   "metadata": {},
   "source": [
    "## Graph metrics"
   ]
  },
  {
   "cell_type": "code",
   "execution_count": 23,
   "id": "08fe550f",
   "metadata": {},
   "outputs": [
    {
     "name": "stdout",
     "output_type": "stream",
     "text": [
      "(1024, 3)\n",
      "avg shortest path length (MLP): 48.73673765120968\n",
      "avg shortest path length (baseline): 7.897081004093353\n"
     ]
    }
   ],
   "source": [
    "pc, target = dataset[0]\n",
    "print(pc.shape)\n",
    "points = torch.Tensor(pc)\n",
    "\n",
    "#Forward pass:\n",
    "\n",
    "pred, edge_features = model(points.unsqueeze(0).unsqueeze(-1).transpose(2,1))\n",
    "\n",
    "knn_index_mlp = knn(edge_features)\n",
    "knn_index_xyz = knn(points.unsqueeze(0).unsqueeze(-1).transpose(2,1))\n",
    "edges_mlp = dense_knn_to_set(knn_index_mlp)\n",
    "edges_xyz = dense_knn_to_set(knn_index_xyz)\n",
    "\n",
    "nodelist = list(range(points.shape[0]))\n",
    "\n",
    "DG_mlp = nx.DiGraph()\n",
    "DG_mlp.add_nodes_from(nodelist)\n",
    "DG_mlp.add_edges_from(edges_mlp)\n",
    "\n",
    "DG_xyz = nx.DiGraph()\n",
    "DG_xyz.add_nodes_from(nodelist)\n",
    "DG_xyz.add_edges_from(edges_xyz)\n",
    "\n",
    "print('avg shortest path length (MLP):', nx.average_shortest_path_length(DG_mlp))\n",
    "print('avg shortest path length (baseline):', nx.average_shortest_path_length(DG_xyz))\n",
    "#print('Number of connected components (MLP):', nx.number_connected_components(DG_mlp))\n",
    "#print('Number of connected components (basline):', nx.number_connected_components(DG_xyz))"
   ]
  },
  {
   "cell_type": "code",
   "execution_count": 21,
   "id": "711fc0ad",
   "metadata": {},
   "outputs": [
    {
     "name": "stderr",
     "output_type": "stream",
     "text": [
      "100%|██████████| 30/30 [02:10<00:00,  4.35s/it]"
     ]
    },
    {
     "name": "stdout",
     "output_type": "stream",
     "text": [
      "avg shortest path length (MLP): 48.04912879424282\n",
      "avg shortest path length (baseline): 8.506743245204056\n"
     ]
    },
    {
     "name": "stderr",
     "output_type": "stream",
     "text": [
      "\n"
     ]
    }
   ],
   "source": [
    "dataset = ModelNet40(1024,'test')\n",
    "asp_mlp = 0\n",
    "asp_xyz = 0\n",
    "count = 0\n",
    "for i in tqdm(range(30)):\n",
    "    pc, target = dataset[i]\n",
    "    points = torch.Tensor(pc)\n",
    "\n",
    "    #Forward pass:\n",
    "\n",
    "    pred, edge_features = model(points.unsqueeze(0).unsqueeze(-1).transpose(2,1))\n",
    "\n",
    "    knn_index_mlp = knn(edge_features)\n",
    "    knn_index_xyz = knn(points.unsqueeze(0).unsqueeze(-1).transpose(2,1))\n",
    "    edges_mlp = dense_knn_to_set(knn_index_mlp)\n",
    "    edges_xyz = dense_knn_to_set(knn_index_xyz)\n",
    "\n",
    "    nodelist = list(range(points.shape[0]))\n",
    "\n",
    "    DG_mlp = nx.DiGraph()\n",
    "    DG_mlp.add_nodes_from(nodelist)\n",
    "    DG_mlp.add_edges_from(edges_mlp)\n",
    "\n",
    "    DG_xyz = nx.DiGraph()\n",
    "    DG_xyz.add_nodes_from(nodelist)\n",
    "    DG_xyz.add_edges_from(edges_xyz)\n",
    "    \n",
    "    asp_mlp += nx.average_shortest_path_length(DG_mlp)\n",
    "    asp_xyz += nx.average_shortest_path_length(DG_xyz)\n",
    "    count += 1\n",
    "    \n",
    "print('avg shortest path length (MLP):', asp_mlp/count)\n",
    "print('avg shortest path length (baseline):', asp_xyz/count)"
   ]
  },
  {
   "cell_type": "code",
   "execution_count": 38,
   "id": "d7e242fa",
   "metadata": {},
   "outputs": [
    {
     "name": "stderr",
     "output_type": "stream",
     "text": [
      "  0%|          | 1/2468 [00:00<14:25,  2.85it/s]"
     ]
    },
    {
     "name": "stdout",
     "output_type": "stream",
     "text": [
      "0 tensor(0.0225)\n"
     ]
    },
    {
     "name": "stderr",
     "output_type": "stream",
     "text": [
      "  2%|▏         | 51/2468 [00:16<12:42,  3.17it/s]"
     ]
    },
    {
     "name": "stdout",
     "output_type": "stream",
     "text": [
      "50 tensor(0.0230)\n"
     ]
    },
    {
     "name": "stderr",
     "output_type": "stream",
     "text": [
      "  4%|▍         | 101/2468 [00:32<12:27,  3.17it/s]"
     ]
    },
    {
     "name": "stdout",
     "output_type": "stream",
     "text": [
      "100 tensor(0.0197)\n"
     ]
    },
    {
     "name": "stderr",
     "output_type": "stream",
     "text": [
      "  6%|▌         | 151/2468 [00:48<12:27,  3.10it/s]"
     ]
    },
    {
     "name": "stdout",
     "output_type": "stream",
     "text": [
      "150 tensor(0.0262)\n"
     ]
    },
    {
     "name": "stderr",
     "output_type": "stream",
     "text": [
      "  8%|▊         | 201/2468 [01:06<18:33,  2.04it/s]"
     ]
    },
    {
     "name": "stdout",
     "output_type": "stream",
     "text": [
      "200 tensor(0.0195)\n"
     ]
    },
    {
     "name": "stderr",
     "output_type": "stream",
     "text": [
      " 10%|█         | 251/2468 [01:24<11:42,  3.16it/s]"
     ]
    },
    {
     "name": "stdout",
     "output_type": "stream",
     "text": [
      "250 tensor(0.0256)\n"
     ]
    },
    {
     "name": "stderr",
     "output_type": "stream",
     "text": [
      " 12%|█▏        | 301/2468 [01:40<11:28,  3.15it/s]"
     ]
    },
    {
     "name": "stdout",
     "output_type": "stream",
     "text": [
      "300 tensor(0.0215)\n"
     ]
    },
    {
     "name": "stderr",
     "output_type": "stream",
     "text": [
      " 14%|█▍        | 351/2468 [01:56<11:10,  3.16it/s]"
     ]
    },
    {
     "name": "stdout",
     "output_type": "stream",
     "text": [
      "350 tensor(0.0293)\n"
     ]
    },
    {
     "name": "stderr",
     "output_type": "stream",
     "text": [
      " 16%|█▌        | 401/2468 [02:12<11:17,  3.05it/s]"
     ]
    },
    {
     "name": "stdout",
     "output_type": "stream",
     "text": [
      "400 tensor(0.0254)\n"
     ]
    },
    {
     "name": "stderr",
     "output_type": "stream",
     "text": [
      " 18%|█▊        | 451/2468 [02:29<10:50,  3.10it/s]"
     ]
    },
    {
     "name": "stdout",
     "output_type": "stream",
     "text": [
      "450 tensor(0.0264)\n"
     ]
    },
    {
     "name": "stderr",
     "output_type": "stream",
     "text": [
      " 20%|██        | 501/2468 [02:45<10:24,  3.15it/s]"
     ]
    },
    {
     "name": "stdout",
     "output_type": "stream",
     "text": [
      "500 tensor(0.0223)\n"
     ]
    },
    {
     "name": "stderr",
     "output_type": "stream",
     "text": [
      " 22%|██▏       | 551/2468 [03:02<10:10,  3.14it/s]"
     ]
    },
    {
     "name": "stdout",
     "output_type": "stream",
     "text": [
      "550 tensor(0.0163)\n"
     ]
    },
    {
     "name": "stderr",
     "output_type": "stream",
     "text": [
      " 24%|██▍       | 601/2468 [03:17<09:48,  3.17it/s]"
     ]
    },
    {
     "name": "stdout",
     "output_type": "stream",
     "text": [
      "600 tensor(0.0214)\n"
     ]
    },
    {
     "name": "stderr",
     "output_type": "stream",
     "text": [
      " 26%|██▋       | 651/2468 [03:33<09:35,  3.16it/s]"
     ]
    },
    {
     "name": "stdout",
     "output_type": "stream",
     "text": [
      "650 tensor(0.0150)\n"
     ]
    },
    {
     "name": "stderr",
     "output_type": "stream",
     "text": [
      " 28%|██▊       | 701/2468 [03:49<09:17,  3.17it/s]"
     ]
    },
    {
     "name": "stdout",
     "output_type": "stream",
     "text": [
      "700 tensor(0.0208)\n"
     ]
    },
    {
     "name": "stderr",
     "output_type": "stream",
     "text": [
      " 30%|███       | 751/2468 [04:05<09:01,  3.17it/s]"
     ]
    },
    {
     "name": "stdout",
     "output_type": "stream",
     "text": [
      "750 tensor(0.0254)\n"
     ]
    },
    {
     "name": "stderr",
     "output_type": "stream",
     "text": [
      " 32%|███▏      | 801/2468 [04:22<10:59,  2.53it/s]"
     ]
    },
    {
     "name": "stdout",
     "output_type": "stream",
     "text": [
      "800 tensor(0.0246)\n"
     ]
    },
    {
     "name": "stderr",
     "output_type": "stream",
     "text": [
      " 34%|███▍      | 851/2468 [04:41<08:54,  3.02it/s]"
     ]
    },
    {
     "name": "stdout",
     "output_type": "stream",
     "text": [
      "850 tensor(0.0240)\n"
     ]
    },
    {
     "name": "stderr",
     "output_type": "stream",
     "text": [
      " 37%|███▋      | 901/2468 [04:58<09:04,  2.88it/s]"
     ]
    },
    {
     "name": "stdout",
     "output_type": "stream",
     "text": [
      "900 tensor(0.0207)\n"
     ]
    },
    {
     "name": "stderr",
     "output_type": "stream",
     "text": [
      " 39%|███▊      | 951/2468 [05:14<08:03,  3.14it/s]"
     ]
    },
    {
     "name": "stdout",
     "output_type": "stream",
     "text": [
      "950 tensor(0.0280)\n"
     ]
    },
    {
     "name": "stderr",
     "output_type": "stream",
     "text": [
      " 41%|████      | 1001/2468 [05:30<07:45,  3.15it/s]"
     ]
    },
    {
     "name": "stdout",
     "output_type": "stream",
     "text": [
      "1000 tensor(0.0211)\n"
     ]
    },
    {
     "name": "stderr",
     "output_type": "stream",
     "text": [
      " 43%|████▎     | 1051/2468 [05:46<07:40,  3.08it/s]"
     ]
    },
    {
     "name": "stdout",
     "output_type": "stream",
     "text": [
      "1050 tensor(0.0262)\n"
     ]
    },
    {
     "name": "stderr",
     "output_type": "stream",
     "text": [
      " 45%|████▍     | 1101/2468 [06:02<07:14,  3.15it/s]"
     ]
    },
    {
     "name": "stdout",
     "output_type": "stream",
     "text": [
      "1100 tensor(0.0226)\n"
     ]
    },
    {
     "name": "stderr",
     "output_type": "stream",
     "text": [
      " 47%|████▋     | 1151/2468 [06:19<07:27,  2.95it/s]"
     ]
    },
    {
     "name": "stdout",
     "output_type": "stream",
     "text": [
      "1150 tensor(0.0252)\n"
     ]
    },
    {
     "name": "stderr",
     "output_type": "stream",
     "text": [
      " 49%|████▊     | 1201/2468 [06:36<06:41,  3.15it/s]"
     ]
    },
    {
     "name": "stdout",
     "output_type": "stream",
     "text": [
      "1200 tensor(0.0226)\n"
     ]
    },
    {
     "name": "stderr",
     "output_type": "stream",
     "text": [
      " 51%|█████     | 1251/2468 [06:52<06:26,  3.15it/s]"
     ]
    },
    {
     "name": "stdout",
     "output_type": "stream",
     "text": [
      "1250 tensor(0.0232)\n"
     ]
    },
    {
     "name": "stderr",
     "output_type": "stream",
     "text": [
      " 53%|█████▎    | 1301/2468 [07:08<06:08,  3.16it/s]"
     ]
    },
    {
     "name": "stdout",
     "output_type": "stream",
     "text": [
      "1300 tensor(0.0259)\n"
     ]
    },
    {
     "name": "stderr",
     "output_type": "stream",
     "text": [
      " 55%|█████▍    | 1351/2468 [07:23<05:53,  3.16it/s]"
     ]
    },
    {
     "name": "stdout",
     "output_type": "stream",
     "text": [
      "1350 tensor(0.0286)\n"
     ]
    },
    {
     "name": "stderr",
     "output_type": "stream",
     "text": [
      " 57%|█████▋    | 1401/2468 [07:39<05:37,  3.16it/s]"
     ]
    },
    {
     "name": "stdout",
     "output_type": "stream",
     "text": [
      "1400 tensor(0.0307)\n"
     ]
    },
    {
     "name": "stderr",
     "output_type": "stream",
     "text": [
      " 59%|█████▉    | 1451/2468 [07:56<06:08,  2.76it/s]"
     ]
    },
    {
     "name": "stdout",
     "output_type": "stream",
     "text": [
      "1450 tensor(0.0192)\n"
     ]
    },
    {
     "name": "stderr",
     "output_type": "stream",
     "text": [
      " 61%|██████    | 1501/2468 [08:14<05:31,  2.92it/s]"
     ]
    },
    {
     "name": "stdout",
     "output_type": "stream",
     "text": [
      "1500 tensor(0.0264)\n"
     ]
    },
    {
     "name": "stderr",
     "output_type": "stream",
     "text": [
      " 63%|██████▎   | 1551/2468 [08:30<05:39,  2.70it/s]"
     ]
    },
    {
     "name": "stdout",
     "output_type": "stream",
     "text": [
      "1550 tensor(0.0290)\n"
     ]
    },
    {
     "name": "stderr",
     "output_type": "stream",
     "text": [
      " 65%|██████▍   | 1601/2468 [08:50<05:10,  2.79it/s]"
     ]
    },
    {
     "name": "stdout",
     "output_type": "stream",
     "text": [
      "1600 tensor(0.0166)\n"
     ]
    },
    {
     "name": "stderr",
     "output_type": "stream",
     "text": [
      " 67%|██████▋   | 1651/2468 [09:06<04:19,  3.15it/s]"
     ]
    },
    {
     "name": "stdout",
     "output_type": "stream",
     "text": [
      "1650 tensor(0.0208)\n"
     ]
    },
    {
     "name": "stderr",
     "output_type": "stream",
     "text": [
      " 69%|██████▉   | 1701/2468 [09:24<04:36,  2.77it/s]"
     ]
    },
    {
     "name": "stdout",
     "output_type": "stream",
     "text": [
      "1700 tensor(0.0269)\n"
     ]
    },
    {
     "name": "stderr",
     "output_type": "stream",
     "text": [
      " 71%|███████   | 1751/2468 [09:41<04:04,  2.93it/s]"
     ]
    },
    {
     "name": "stdout",
     "output_type": "stream",
     "text": [
      "1750 tensor(0.0231)\n"
     ]
    },
    {
     "name": "stderr",
     "output_type": "stream",
     "text": [
      " 73%|███████▎  | 1801/2468 [09:57<03:53,  2.85it/s]"
     ]
    },
    {
     "name": "stdout",
     "output_type": "stream",
     "text": [
      "1800 tensor(0.0231)\n"
     ]
    },
    {
     "name": "stderr",
     "output_type": "stream",
     "text": [
      " 75%|███████▌  | 1851/2468 [10:14<03:22,  3.05it/s]"
     ]
    },
    {
     "name": "stdout",
     "output_type": "stream",
     "text": [
      "1850 tensor(0.0274)\n"
     ]
    },
    {
     "name": "stderr",
     "output_type": "stream",
     "text": [
      " 77%|███████▋  | 1901/2468 [10:30<02:59,  3.16it/s]"
     ]
    },
    {
     "name": "stdout",
     "output_type": "stream",
     "text": [
      "1900 tensor(0.0258)\n"
     ]
    },
    {
     "name": "stderr",
     "output_type": "stream",
     "text": [
      " 79%|███████▉  | 1951/2468 [10:46<02:45,  3.12it/s]"
     ]
    },
    {
     "name": "stdout",
     "output_type": "stream",
     "text": [
      "1950 tensor(0.0242)\n"
     ]
    },
    {
     "name": "stderr",
     "output_type": "stream",
     "text": [
      " 81%|████████  | 2001/2468 [11:02<02:27,  3.16it/s]"
     ]
    },
    {
     "name": "stdout",
     "output_type": "stream",
     "text": [
      "2000 tensor(0.0266)\n"
     ]
    },
    {
     "name": "stderr",
     "output_type": "stream",
     "text": [
      " 83%|████████▎ | 2051/2468 [11:18<02:12,  3.16it/s]"
     ]
    },
    {
     "name": "stdout",
     "output_type": "stream",
     "text": [
      "2050 tensor(0.0206)\n"
     ]
    },
    {
     "name": "stderr",
     "output_type": "stream",
     "text": [
      " 85%|████████▌ | 2101/2468 [11:33<01:56,  3.16it/s]"
     ]
    },
    {
     "name": "stdout",
     "output_type": "stream",
     "text": [
      "2100 tensor(0.0266)\n"
     ]
    },
    {
     "name": "stderr",
     "output_type": "stream",
     "text": [
      " 87%|████████▋ | 2151/2468 [11:49<01:40,  3.15it/s]"
     ]
    },
    {
     "name": "stdout",
     "output_type": "stream",
     "text": [
      "2150 tensor(0.0257)\n"
     ]
    },
    {
     "name": "stderr",
     "output_type": "stream",
     "text": [
      " 89%|████████▉ | 2201/2468 [12:05<01:25,  3.14it/s]"
     ]
    },
    {
     "name": "stdout",
     "output_type": "stream",
     "text": [
      "2200 tensor(0.0245)\n"
     ]
    },
    {
     "name": "stderr",
     "output_type": "stream",
     "text": [
      " 91%|█████████ | 2251/2468 [12:21<01:09,  3.14it/s]"
     ]
    },
    {
     "name": "stdout",
     "output_type": "stream",
     "text": [
      "2250 tensor(0.0185)\n"
     ]
    },
    {
     "name": "stderr",
     "output_type": "stream",
     "text": [
      " 93%|█████████▎| 2301/2468 [12:37<00:54,  3.06it/s]"
     ]
    },
    {
     "name": "stdout",
     "output_type": "stream",
     "text": [
      "2300 tensor(0.0182)\n"
     ]
    },
    {
     "name": "stderr",
     "output_type": "stream",
     "text": [
      " 95%|█████████▌| 2351/2468 [12:53<00:37,  3.15it/s]"
     ]
    },
    {
     "name": "stdout",
     "output_type": "stream",
     "text": [
      "2350 tensor(0.0214)\n"
     ]
    },
    {
     "name": "stderr",
     "output_type": "stream",
     "text": [
      " 97%|█████████▋| 2401/2468 [13:10<00:21,  3.09it/s]"
     ]
    },
    {
     "name": "stdout",
     "output_type": "stream",
     "text": [
      "2400 tensor(0.0216)\n"
     ]
    },
    {
     "name": "stderr",
     "output_type": "stream",
     "text": [
      " 99%|█████████▉| 2451/2468 [13:27<00:05,  3.15it/s]"
     ]
    },
    {
     "name": "stdout",
     "output_type": "stream",
     "text": [
      "2450 tensor(0.0286)\n"
     ]
    },
    {
     "name": "stderr",
     "output_type": "stream",
     "text": [
      "100%|██████████| 2468/2468 [13:32<00:00,  3.04it/s]"
     ]
    },
    {
     "name": "stdout",
     "output_type": "stream",
     "text": [
      "average scaled stress: tensor(0.0233)\n"
     ]
    },
    {
     "name": "stderr",
     "output_type": "stream",
     "text": [
      "\n"
     ]
    }
   ],
   "source": [
    "model.eval()\n",
    "dataset = ModelNet40(1024,'test')\n",
    "total_stress = 0\n",
    "count = 0\n",
    "for pc, target in tqdm(dataset):\n",
    "    with torch.no_grad():\n",
    "        points = torch.Tensor(pc).unsqueeze(0).unsqueeze(-1).transpose(2,1)\n",
    "\n",
    "        #Forward pass:\n",
    "        pred, edge_features = model(points)\n",
    "\n",
    "        pc_stress = scaled_stress(points,edge_features)\n",
    "\n",
    "        if not count%50:\n",
    "            print(count,pc_stress)\n",
    "\n",
    "        total_stress += pc_stress\n",
    "\n",
    "        count += 1\n",
    "    \n",
    "print('average scaled stress:', total_stress/count)"
   ]
  },
  {
   "cell_type": "markdown",
   "id": "a1a9254c",
   "metadata": {},
   "source": [
    "## learnt features plots of guitar (index 29)"
   ]
  },
  {
   "cell_type": "markdown",
   "id": "d6536973",
   "metadata": {},
   "source": [
    "### 2D plot"
   ]
  },
  {
   "cell_type": "code",
   "execution_count": 32,
   "id": "7d231b19",
   "metadata": {},
   "outputs": [
    {
     "data": {
      "text/plain": [
       "<matplotlib.collections.PathCollection at 0x7ff9089f6f40>"
      ]
     },
     "execution_count": 32,
     "metadata": {},
     "output_type": "execute_result"
    },
    {
     "data": {
      "image/png": "[encoded data removed]",
      "text/plain": [
       "<Figure size 432x288 with 2 Axes>"
      ]
     },
     "metadata": {
      "needs_background": "light"
     },
     "output_type": "display_data"
    }
   ],
   "source": [
    "opt = SimpleNamespace(n_filters = 64, \n",
    "                      k= 16,\n",
    "                      act='relu',\n",
    "                      norm = 'batch',\n",
    "                      bias = True,\n",
    "                      dropout = 0.3,\n",
    "                      n_blocks = 4,\n",
    "                      graph = 'KNN',\n",
    "                      knn_criterion = 'MLP',\n",
    "                      graph_feats = 2,\n",
    "                      in_channels = 3,\n",
    "                      graph_dropout = 0,\n",
    "                      n_classes = 40)\n",
    "\n",
    "model = ClassificationGraphNN(opt)\n",
    "state_dict = torch.load('weights/MLP_3_16_2_best.pth', map_location='cpu')\n",
    "model.load_state_dict(state_dict['state_dict'])\n",
    "model.eval()\n",
    "\n",
    "dataset = ModelNet40(1024, 'test')\n",
    "pc, target = dataset[29]\n",
    "\n",
    "points = torch.Tensor(pc).unsqueeze(0).unsqueeze(-1).transpose(2,1)\n",
    "\n",
    "pred, edge_features = model(points)\n",
    "\n",
    "twod_feats = edge_features.squeeze(0).detach().numpy()\n",
    "twod_proj = points.squeeze(0).detach().numpy()\n",
    "\n",
    "fig, axs = plt.subplots(1,2)\n",
    "axs[0].scatter(twod_proj[2],twod_proj[0], s = 2)\n",
    "axs[1].scatter(twod_feats[0],twod_feats[1], s = 2)"
   ]
  },
  {
   "cell_type": "markdown",
   "id": "5962e023",
   "metadata": {},
   "source": [
    "### 3D proyected in 2D plots with different gammas"
   ]
  },
  {
   "cell_type": "code",
   "execution_count": 56,
   "id": "22b6dc7b",
   "metadata": {},
   "outputs": [
    {
     "data": {
      "image/png": "[encoded data removed]",
      "text/plain": [
       "<Figure size 504x1440 with 7 Axes>"
      ]
     },
     "metadata": {
      "needs_background": "light"
     },
     "output_type": "display_data"
    }
   ],
   "source": [
    "opt = SimpleNamespace(n_filters = 64, \n",
    "                      k= 16,\n",
    "                      act='relu',\n",
    "                      norm = 'batch',\n",
    "                      bias = True,\n",
    "                      dropout = 0.3,\n",
    "                      n_blocks = 4,\n",
    "                      graph = 'KNN',\n",
    "                      knn_criterion = 'MLP',\n",
    "                      graph_feats = 3,\n",
    "                      in_channels = 3,\n",
    "                      graph_dropout = 0,\n",
    "                      n_classes = 40)\n",
    "\n",
    "fig, axs = plt.subplots(1,7, figsize=(7,20))\n",
    "\n",
    "gammas = [-1,1,0.1,0.01,0.001,0.0001,0]\n",
    "for i,g in enumerate(gammas):\n",
    "    model = ClassificationGraphNN(opt)\n",
    "    if g == -1:\n",
    "        state_dict = torch.load(f'weights/MLP_3_16_3_best.pth', map_location='cpu')\n",
    "    elif g == 0:\n",
    "        state_dict = torch.load(f'weights/MLP_3_16_3_best.pth', map_location='cpu')\n",
    "    else:\n",
    "        state_dict = torch.load(f'weights/MLP_3_16_3_scaled_stress{g}_best.pth', map_location='cpu')\n",
    "    model.load_state_dict(state_dict['state_dict'])\n",
    "    model.eval()\n",
    "\n",
    "    dataset = ModelNet40(1024, 'test')\n",
    "    pc, target = dataset[29]\n",
    "\n",
    "    points = torch.Tensor(pc).unsqueeze(0).unsqueeze(-1).transpose(2,1)\n",
    "\n",
    "    pred, edge_features = model(points)\n",
    "    if g == -1:\n",
    "        feats = points.squeeze(0).detach().numpy()\n",
    "    else:\n",
    "        feats = edge_features.squeeze(0).detach().numpy()\n",
    "    axs[i].scatter(feats[2],feats[0], s = 2, c = 'black')\n",
    "    axs[i].axes.set_aspect('equal')"
   ]
  },
  {
   "cell_type": "code",
   "execution_count": 4,
   "id": "9147bdfb",
   "metadata": {},
   "outputs": [
    {
     "name": "stdout",
     "output_type": "stream",
     "text": [
      "torch.Size([1024, 3]) torch.Size([3, 2])\n",
      "torch.Size([1024, 3]) torch.Size([3, 2])\n",
      "torch.Size([1024, 3]) torch.Size([3, 2])\n",
      "torch.Size([1024, 3]) torch.Size([3, 2])\n",
      "torch.Size([1024, 3]) torch.Size([3, 2])\n",
      "torch.Size([1024, 3]) torch.Size([3, 2])\n",
      "torch.Size([1024, 3]) torch.Size([3, 2])\n",
      "torch.Size([1024, 3]) torch.Size([3, 2])\n",
      "torch.Size([1024, 3]) torch.Size([3, 2])\n",
      "torch.Size([1024, 3]) torch.Size([3, 2])\n",
      "torch.Size([1024, 3]) torch.Size([3, 2])\n",
      "torch.Size([1024, 3]) torch.Size([3, 2])\n",
      "torch.Size([1024, 3]) torch.Size([3, 2])\n",
      "torch.Size([1024, 3]) torch.Size([3, 2])\n",
      "torch.Size([1024, 3]) torch.Size([3, 2])\n",
      "torch.Size([1024, 3]) torch.Size([3, 2])\n",
      "torch.Size([1024, 3]) torch.Size([3, 2])\n",
      "torch.Size([1024, 3]) torch.Size([3, 2])\n",
      "torch.Size([1024, 3]) torch.Size([3, 2])\n",
      "torch.Size([1024, 3]) torch.Size([3, 2])\n",
      "torch.Size([1024, 3]) torch.Size([3, 2])\n",
      "torch.Size([1024, 3]) torch.Size([3, 2])\n",
      "torch.Size([1024, 3]) torch.Size([3, 2])\n",
      "torch.Size([1024, 3]) torch.Size([3, 2])\n",
      "torch.Size([1024, 3]) torch.Size([3, 2])\n",
      "torch.Size([1024, 3]) torch.Size([3, 2])\n",
      "torch.Size([1024, 3]) torch.Size([3, 2])\n",
      "torch.Size([1024, 3]) torch.Size([3, 2])\n"
     ]
    },
    {
     "data": {
      "image/png": "[encoded data removed]",
      "text/plain": [
       "<Figure size 432x288 with 28 Axes>"
      ]
     },
     "metadata": {
      "needs_background": "light"
     },
     "output_type": "display_data"
    }
   ],
   "source": [
    "from matplotlib import font_manager\n",
    "\n",
    "def project_2d_based_on_keypoints(pc,keypoints):\n",
    "    #First vector of our basis will be red-to-red\n",
    "    v0 = pc[keypoints[2]] - pc[keypoints[1]]\n",
    "    v0 = v0/torch.norm(v0)\n",
    "\n",
    "    #Second vector will be perpendicular to this one and pertaining to the plane\n",
    "    #We solve system of equations for alpha and x:\n",
    "    #<p0-x, v0>=0 (vectors should be normal)\n",
    "    #x = p1 + alpha*v1 (x should be aligned with the line defined by p1 and v1)\n",
    "    alpha = torch.dot(v0, pc[keypoints[0]]-pc[keypoints[1]])\n",
    "    x = pc[keypoints[1]] + alpha*v0\n",
    "    v1 = pc[keypoints[0]]-x\n",
    "    v1 = v1/torch.norm(v1)\n",
    "\n",
    "    trans = torch.cat((v0.unsqueeze(1),v1.unsqueeze(1)), dim=1)\n",
    "    print(pc.shape, trans.shape)\n",
    "\n",
    "    proj = torch.matmul(pc,trans).detach()\n",
    "    return proj\n",
    "\n",
    "font_dirs = ['figures/']\n",
    "font_files = font_manager.findSystemFonts(fontpaths=font_dirs)\n",
    "\n",
    "for font_file in font_files:\n",
    "    font_manager.fontManager.addfont(font_file)\n",
    "\n",
    "# set font\n",
    "plt.rcParams['font.family'] = 'Lexend Deca'\n",
    "\n",
    "opt = SimpleNamespace(n_filters = 64, \n",
    "                      k= 16,\n",
    "                      act='relu',\n",
    "                      norm = 'batch',\n",
    "                      bias = True,\n",
    "                      dropout = 0.3,\n",
    "                      n_blocks = 4,\n",
    "                      graph = 'KNN',\n",
    "                      knn_criterion = 'MLP',\n",
    "                      graph_feats = 3,\n",
    "                      in_channels = 3,\n",
    "                      graph_dropout = 0,\n",
    "                      n_classes = 40)\n",
    "\n",
    "\n",
    "\n",
    "gammas = [-1,0,0.0001,0.001,0.01,0.1,1]\n",
    "dataset = ModelNet40(1024, 'test')\n",
    "colors = [[1,0,0],[0,1,0],[0,0,1]]\n",
    "samples = [29, 1, 230, 512]\n",
    "fig, axs = plt.subplots(len(samples),len(gammas))\n",
    "\n",
    "g = gammas[6]\n",
    "\n",
    "for i,g in enumerate(gammas):\n",
    "    \n",
    "    model = ClassificationGraphNN(opt)\n",
    "    if g == -1:\n",
    "        state_dict = torch.load(f'weights/MLP_3_16_3_best.pth', map_location='cpu')\n",
    "    elif g == 0:\n",
    "        state_dict = torch.load(f'weights/MLP_3_16_3_best.pth', map_location='cpu')\n",
    "    else:\n",
    "        state_dict = torch.load(f'weights/MLP_3_16_3_scaled_stress{g}_best.pth', map_location='cpu')\n",
    "    model.load_state_dict(state_dict['state_dict'])\n",
    "    model.eval()\n",
    "    \n",
    "    for j in range(len(samples)):\n",
    "    \n",
    "        pc, target = dataset[samples[j]]\n",
    "        pc = torch.Tensor(pc)\n",
    "\n",
    "        important_points = {}\n",
    "        for k in range(3):\n",
    "            important_points[torch.argmax(pc[:,k]).item()] = k\n",
    "            important_points[torch.argmin(pc[:,k]).item()] = k\n",
    "\n",
    "\n",
    "\n",
    "        points = pc.unsqueeze(0).unsqueeze(-1).transpose(2,1)\n",
    "\n",
    "        pred, edge_features = model(points)\n",
    "\n",
    "        feats = edge_features.squeeze(0).squeeze(-1).transpose(0,1)\n",
    "\n",
    "        plane_points = [torch.argmin(pc[:,2]).item(), torch.argmin(pc[:,0]).item(), torch.argmax(pc[:,0]).item()]\n",
    "\n",
    "        if g == -1:\n",
    "            proj = project_2d_based_on_keypoints(pc,plane_points)\n",
    "        else:\n",
    "            proj = project_2d_based_on_keypoints(feats,plane_points)\n",
    "\n",
    "        col = [colors[important_points[i]] if i in important_points else [0.1,0.1,0.1] for i in range(pc.shape[0])]\n",
    "\n",
    "\n",
    "        s = [1 if i in important_points else 0.05 for i in range(pc.shape[0])]\n",
    "        #plt.axes().set_aspect('equal')\n",
    "        axs[j,i].scatter(proj[:,1],proj[:,0], c = col, s = s)\n",
    "\n",
    "        for p,letter in zip(important_points.keys(),['A','B','C','D','E','F']):\n",
    "            axs[j,i].text(proj[p,1].item(), proj[p,0].item(), s = letter, c = colors[important_points[p]],\n",
    "                        horizontalalignment='left', verticalalignment='bottom')\n",
    "        #plt.scatter(pc[:,0],pc[:,2], c = col)\n",
    "        axs[j,i].axes.set_aspect('equal')\n",
    "        axs[j,i].axis('off')\n",
    "        if j == 0:\n",
    "            if g ==-1:\n",
    "                axs[j,i].set_title('original', fontsize=8, pad = 15)\n",
    "            else:\n",
    "                axs[j,i].set_title(f'$\\gamma$ = {g}', fontsize=8, pad = 15)\n",
    "\n",
    "fig.savefig('figures/gamma_viz.png', dpi=1024, pad_inches=0,bbox_inches='tight')"
   ]
  }
 ],
 "metadata": {
  "kernelspec": {
   "display_name": "Python 3 (ipykernel)",
   "language": "python",
   "name": "python3"
  },
  "language_info": {
   "codemirror_mode": {
    "name": "ipython",
    "version": 3
   },
   "file_extension": ".py",
   "mimetype": "text/x-python",
   "name": "python",
   "nbconvert_exporter": "python",
   "pygments_lexer": "ipython3",
   "version": "3.8.10"
  }
 },
 "nbformat": 4,
 "nbformat_minor": 5
}
